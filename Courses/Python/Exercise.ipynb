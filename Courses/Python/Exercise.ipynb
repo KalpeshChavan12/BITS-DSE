{
 "cells": [
  {
   "cell_type": "markdown",
   "metadata": {},
   "source": [
    "### Exercise \n",
    "\n",
    "1. Given a number, find the sum of its digits. Take the number as an input from the user.\n",
    "2. Given  a  number,  check  whether  the  given  number  is  an Armstrong number or  not.  A  positive  integer  is  called   anArmstrong number of order n if: ```abcd... = an + bn+ cn + dn + ```\n",
    "Example: ```153 = 1*1*1 + 5*5*5 + 3*3*3 153``` is an Armstrong number of order\n",
    "\n",
    "3. Inputs from the user will be number and order n.3.  Given  a  string,  write  a  python  function  to  check  if  it  ispalindrome or not. A string is said to be palindrome if the reverseof the string is the same as string. For example, ```malayalam``` is apalindrome, but ```music``` is not a palindrome.\n",
    "\n",
    "4. Given an array which may contain duplicates, print all elements and their frequencies.\n",
    "\n",
    "5. Given a number n, write a function to print allprime factors of n. For example, if the input number is ```12```, then output should be ```2 2 3```.\n",
    "\n",
    "6.  Given  two  numbers  n  and  r,  find  the  value  of **nCr**  \n",
    "```(binomialcoefficient:nCr = (n!) / (r! * (n-r)!))```\n",
    "\n",
    "7.  Searching:  Given  a  sorted  array  arr[]  of  n  elements,  write  afunction  to  search  a  given  element  x  in  arr[].  Do  it using  linearand binary search techniques.\n",
    "\n",
    "8.  Input  a  text  file (containing  1  or  more  paragraphs  of  Englishtext)  from  the  user,  parse  this  file  to  display  the  frequency  ofoccurrence of each word in this text file. Find the 3 most frequentwords as well"
   ]
  },
  {
   "cell_type": "markdown",
   "metadata": {},
   "source": [
    "### 1. Digit Sum"
   ]
  },
  {
   "cell_type": "code",
   "execution_count": 1,
   "metadata": {},
   "outputs": [],
   "source": [
    "''' Get Digit sum assuming base 10 number'''\n",
    "def DigitSum(num):\n",
    "    temp = abs(num)\n",
    "    result = 0\n",
    "    \n",
    "    while temp != 0 :\n",
    "        result = result + (temp % 10)\n",
    "        temp = int(temp / 10)\n",
    "        \n",
    "    return result"
   ]
  },
  {
   "cell_type": "markdown",
   "metadata": {},
   "source": [
    "**Test**"
   ]
  },
  {
   "cell_type": "code",
   "execution_count": 2,
   "metadata": {},
   "outputs": [
    {
     "data": {
      "text/plain": [
       "6"
      ]
     },
     "execution_count": 2,
     "metadata": {},
     "output_type": "execute_result"
    }
   ],
   "source": [
    "DigitSum(123)"
   ]
  },
  {
   "cell_type": "code",
   "execution_count": 3,
   "metadata": {},
   "outputs": [
    {
     "data": {
      "text/plain": [
       "10"
      ]
     },
     "execution_count": 3,
     "metadata": {},
     "output_type": "execute_result"
    }
   ],
   "source": [
    "DigitSum(1234)"
   ]
  },
  {
   "cell_type": "code",
   "execution_count": 4,
   "metadata": {},
   "outputs": [
    {
     "data": {
      "text/plain": [
       "49"
      ]
     },
     "execution_count": 4,
     "metadata": {},
     "output_type": "execute_result"
    }
   ],
   "source": [
    "DigitSum(89899123)"
   ]
  },
  {
   "cell_type": "code",
   "execution_count": 5,
   "metadata": {},
   "outputs": [
    {
     "data": {
      "text/plain": [
       "6"
      ]
     },
     "execution_count": 5,
     "metadata": {},
     "output_type": "execute_result"
    }
   ],
   "source": [
    "DigitSum(-123)"
   ]
  },
  {
   "cell_type": "code",
   "execution_count": 38,
   "metadata": {},
   "outputs": [
    {
     "name": "stdout",
     "output_type": "stream",
     "text": [
      "Enter number to get digit sum \n",
      "575848\n"
     ]
    },
    {
     "data": {
      "text/plain": [
       "37"
      ]
     },
     "execution_count": 38,
     "metadata": {},
     "output_type": "execute_result"
    }
   ],
   "source": [
    "DigitSum(int(input(\"Enter number to get digit sum \\n\")))"
   ]
  },
  {
   "cell_type": "markdown",
   "metadata": {},
   "source": [
    "### 2.  Armstrong number "
   ]
  },
  {
   "cell_type": "code",
   "execution_count": 7,
   "metadata": {},
   "outputs": [],
   "source": [
    "def ArmstrongNumber(num, order):\n",
    "    temp = abs(num)\n",
    "    result = 0\n",
    "    \n",
    "    while temp != 0 :\n",
    "        digit = (temp % 10)\n",
    "        temp = int(temp / 10)\n",
    "        result = result + digit ** order\n",
    "       \n",
    "    return (result == num)"
   ]
  },
  {
   "cell_type": "markdown",
   "metadata": {},
   "source": [
    "** Test **"
   ]
  },
  {
   "cell_type": "code",
   "execution_count": 8,
   "metadata": {},
   "outputs": [
    {
     "data": {
      "text/plain": [
       "True"
      ]
     },
     "execution_count": 8,
     "metadata": {},
     "output_type": "execute_result"
    }
   ],
   "source": [
    "ArmstrongNumber(153, 3)"
   ]
  },
  {
   "cell_type": "code",
   "execution_count": 9,
   "metadata": {},
   "outputs": [
    {
     "data": {
      "text/plain": [
       "False"
      ]
     },
     "execution_count": 9,
     "metadata": {},
     "output_type": "execute_result"
    }
   ],
   "source": [
    "ArmstrongNumber(153, 2)"
   ]
  },
  {
   "cell_type": "code",
   "execution_count": 32,
   "metadata": {},
   "outputs": [
    {
     "name": "stdout",
     "output_type": "stream",
     "text": [
      "Enter Number \n",
      "144\n",
      "Enter Order \n",
      "2\n"
     ]
    }
   ],
   "source": [
    "armstrongnum = int(input(\"Enter Number \\n\"))\n",
    "armstrongnum_order = int(input(\"Enter Order \\n\"))\n",
    "ArmstrongNumber(armstrongnum, armstrongnum_order)"
   ]
  },
  {
   "cell_type": "markdown",
   "metadata": {},
   "source": [
    "### 3. Palindrome"
   ]
  },
  {
   "cell_type": "code",
   "execution_count": 10,
   "metadata": {},
   "outputs": [],
   "source": [
    "def IsPalindrome(inputstr):\n",
    "    startIndex = 0\n",
    "    lastIndex = len(inputstr) - 1\n",
    "    \n",
    "    while startIndex < lastIndex:\n",
    "        if inputstr[startIndex] != inputstr[lastIndex] :\n",
    "            return False\n",
    "        startIndex += 1\n",
    "        lastIndex -= 1\n",
    "    \n",
    "    return True\n",
    "    "
   ]
  },
  {
   "cell_type": "markdown",
   "metadata": {},
   "source": [
    "** Test **"
   ]
  },
  {
   "cell_type": "code",
   "execution_count": 11,
   "metadata": {},
   "outputs": [
    {
     "data": {
      "text/plain": [
       "True"
      ]
     },
     "execution_count": 11,
     "metadata": {},
     "output_type": "execute_result"
    }
   ],
   "source": [
    "IsPalindrome(\"madam\")"
   ]
  },
  {
   "cell_type": "code",
   "execution_count": 12,
   "metadata": {},
   "outputs": [
    {
     "data": {
      "text/plain": [
       "False"
      ]
     },
     "execution_count": 12,
     "metadata": {},
     "output_type": "execute_result"
    }
   ],
   "source": [
    "IsPalindrome(\"TestStr\")"
   ]
  },
  {
   "cell_type": "code",
   "execution_count": 13,
   "metadata": {},
   "outputs": [
    {
     "data": {
      "text/plain": [
       "True"
      ]
     },
     "execution_count": 13,
     "metadata": {},
     "output_type": "execute_result"
    }
   ],
   "source": [
    "IsPalindrome(\"malayalam\")"
   ]
  },
  {
   "cell_type": "code",
   "execution_count": 33,
   "metadata": {},
   "outputs": [
    {
     "name": "stdout",
     "output_type": "stream",
     "text": [
      "Enter string \n",
      "Malayalam\n"
     ]
    },
    {
     "data": {
      "text/plain": [
       "False"
      ]
     },
     "execution_count": 33,
     "metadata": {},
     "output_type": "execute_result"
    }
   ],
   "source": [
    "IsPalindrome(input(\"Enter string \\n\"))"
   ]
  },
  {
   "cell_type": "markdown",
   "metadata": {},
   "source": [
    "### 4.  Get Word Frequency"
   ]
  },
  {
   "cell_type": "code",
   "execution_count": 14,
   "metadata": {},
   "outputs": [],
   "source": [
    "def PrintFrequency(arr):\n",
    "    result = {}\n",
    "    \n",
    "    for item in arr:\n",
    "        if item in result:\n",
    "            result[item] += 1\n",
    "        else:\n",
    "            result[item] = 1\n",
    "            \n",
    "    return result"
   ]
  },
  {
   "cell_type": "code",
   "execution_count": 15,
   "metadata": {},
   "outputs": [
    {
     "data": {
      "text/plain": [
       "{1: 2, 3: 1, 4: 2, 5: 1, 6: 1, 7: 1}"
      ]
     },
     "execution_count": 15,
     "metadata": {},
     "output_type": "execute_result"
    }
   ],
   "source": [
    "PrintFrequency([1,3,4,5,1,4,6,7])"
   ]
  },
  {
   "cell_type": "markdown",
   "metadata": {},
   "source": [
    "### 5. Prime factors"
   ]
  },
  {
   "cell_type": "code",
   "execution_count": 16,
   "metadata": {},
   "outputs": [],
   "source": [
    "import math\n",
    "\n",
    "primes = list()\n",
    "\n",
    "''' https://en.wikipedia.org/wiki/Sieve_of_Eratosthenes '''\n",
    "def SieveofEratosthenes(size=10000):\n",
    "    if len(primes) != 0:\n",
    "        return\n",
    "    \n",
    "    natural_non_prime_nums = { 1:False }\n",
    "    \n",
    "    for index in range(2, size):\n",
    "        for tmp in range(2, int(size/index) + 1):\n",
    "            natural_non_prime_nums[index * tmp] = True\n",
    "            \n",
    "    for natural_num in range(2, size):\n",
    "        if not natural_num in natural_non_prime_nums:\n",
    "            primes.append(natural_num)\n",
    "    \n",
    "def GetPrimeFactors(num):\n",
    "    if num == 1:\n",
    "        return [1]\n",
    "    if num in primes:\n",
    "        return [num]\n",
    "    \n",
    "    SieveofEratosthenes(10000) # max 10000 prime support , We can support num = 10000 ^ 2\n",
    "    \n",
    "    numsqrt = int(math.sqrt(num)) + 1\n",
    "    \n",
    "    for prime in primes:\n",
    "        if prime > numsqrt:\n",
    "            break\n",
    "        if (num % prime) == 0:\n",
    "            return [prime] + GetPrimeFactors(int(num / prime))\n",
    "        \n",
    "            \n",
    "    return [1]\n",
    "    \n"
   ]
  },
  {
   "cell_type": "code",
   "execution_count": 17,
   "metadata": {},
   "outputs": [
    {
     "name": "stdout",
     "output_type": "stream",
     "text": [
      "[2, 3]\n"
     ]
    }
   ],
   "source": [
    "print(GetPrimeFactors(6))"
   ]
  },
  {
   "cell_type": "code",
   "execution_count": 18,
   "metadata": {},
   "outputs": [
    {
     "name": "stdout",
     "output_type": "stream",
     "text": [
      "[2, 3, 11, 1931]\n"
     ]
    }
   ],
   "source": [
    "print(GetPrimeFactors(127446))"
   ]
  },
  {
   "cell_type": "code",
   "execution_count": 19,
   "metadata": {},
   "outputs": [
    {
     "name": "stdout",
     "output_type": "stream",
     "text": [
      "[97]\n"
     ]
    }
   ],
   "source": [
    "print(GetPrimeFactors(97))"
   ]
  },
  {
   "cell_type": "code",
   "execution_count": 35,
   "metadata": {},
   "outputs": [
    {
     "name": "stdout",
     "output_type": "stream",
     "text": [
      "Enter number ( 0 < input < 10^8) = 98326\n"
     ]
    },
    {
     "data": {
      "text/plain": [
       "[2, 211, 233]"
      ]
     },
     "execution_count": 35,
     "metadata": {},
     "output_type": "execute_result"
    }
   ],
   "source": [
    "GetPrimeFactors(int(input(\"Enter number ( 0 < input < 10^8) = \")))"
   ]
  },
  {
   "cell_type": "markdown",
   "metadata": {},
   "source": [
    "### 6. Binomial Coefficient"
   ]
  },
  {
   "cell_type": "code",
   "execution_count": 20,
   "metadata": {},
   "outputs": [],
   "source": [
    "def factorial(num):\n",
    "    if num == 0 :\n",
    "        return 1\n",
    "    \n",
    "    result = 1\n",
    "    for item in range(1, num):\n",
    "        result *=  item\n",
    "    \n",
    "    return result\n",
    "\n",
    "def BinomialCoefficient(n, r):\n",
    "    if n < r :\n",
    "        return -1;\n",
    "    return int(factorial(n) / int(factorial(r) * factorial(n-r)));\n",
    "    \n",
    "    "
   ]
  },
  {
   "cell_type": "code",
   "execution_count": 21,
   "metadata": {},
   "outputs": [
    {
     "data": {
      "text/plain": [
       "12"
      ]
     },
     "execution_count": 21,
     "metadata": {},
     "output_type": "execute_result"
    }
   ],
   "source": [
    "BinomialCoefficient(5,3)"
   ]
  },
  {
   "cell_type": "code",
   "execution_count": 22,
   "metadata": {},
   "outputs": [
    {
     "data": {
      "text/plain": [
       "1"
      ]
     },
     "execution_count": 22,
     "metadata": {},
     "output_type": "execute_result"
    }
   ],
   "source": [
    "BinomialCoefficient(5,5)"
   ]
  },
  {
   "cell_type": "code",
   "execution_count": 37,
   "metadata": {},
   "outputs": [
    {
     "name": "stdout",
     "output_type": "stream",
     "text": [
      "Enter N = 5\n",
      "Enter R = 5\n"
     ]
    },
    {
     "data": {
      "text/plain": [
       "1"
      ]
     },
     "execution_count": 37,
     "metadata": {},
     "output_type": "execute_result"
    }
   ],
   "source": [
    "BinomialCoefficient(int(input(\"Enter N = \")), int(input(\"Enter R = \")) )"
   ]
  },
  {
   "cell_type": "markdown",
   "metadata": {},
   "source": [
    "### 7.  Searching "
   ]
  },
  {
   "cell_type": "code",
   "execution_count": 23,
   "metadata": {},
   "outputs": [],
   "source": [
    "def LinearSearch(arr, k) -> int:\n",
    "    \"\"\" Search item in array \"\"\"\n",
    "    index = 0 \n",
    "    for item in arr:\n",
    "        if item == k:\n",
    "            return index\n",
    "        index += 1\n",
    "    \n",
    "    return -1\n",
    "    \n",
    "def BinarySearch(arr, k) -> int:\n",
    "    \"\"\" Search item in array \"\"\"\n",
    "    low = 0\n",
    "    high = len(arr) - 1\n",
    "    \n",
    "    while low <= high:\n",
    "        mid = int((low + high) / 2)\n",
    "        if arr[mid] == k :\n",
    "            return mid\n",
    "        elif arr[mid] < k:\n",
    "            low = mid + 1\n",
    "        else:\n",
    "            high = mid - 1 \n",
    "    \n",
    "    return -1"
   ]
  },
  {
   "cell_type": "code",
   "execution_count": 24,
   "metadata": {},
   "outputs": [
    {
     "data": {
      "text/plain": [
       "4"
      ]
     },
     "execution_count": 24,
     "metadata": {},
     "output_type": "execute_result"
    }
   ],
   "source": [
    "LinearSearch([1,2,3,4,5,6,7,8,9,10], 5)"
   ]
  },
  {
   "cell_type": "code",
   "execution_count": 25,
   "metadata": {},
   "outputs": [
    {
     "data": {
      "text/plain": [
       "-1"
      ]
     },
     "execution_count": 25,
     "metadata": {},
     "output_type": "execute_result"
    }
   ],
   "source": [
    "LinearSearch([1,2,3,4,5,6,7,8,9,10], 11)"
   ]
  },
  {
   "cell_type": "code",
   "execution_count": 26,
   "metadata": {},
   "outputs": [
    {
     "data": {
      "text/plain": [
       "4"
      ]
     },
     "execution_count": 26,
     "metadata": {},
     "output_type": "execute_result"
    }
   ],
   "source": [
    "BinarySearch([1,2,3,4,5,6,7,8,9,10], 5)"
   ]
  },
  {
   "cell_type": "code",
   "execution_count": 27,
   "metadata": {},
   "outputs": [
    {
     "data": {
      "text/plain": [
       "-1"
      ]
     },
     "execution_count": 27,
     "metadata": {},
     "output_type": "execute_result"
    }
   ],
   "source": [
    "BinarySearch([1,2,3,4,5,6,7,8,9,10], 11)"
   ]
  },
  {
   "cell_type": "markdown",
   "metadata": {},
   "source": [
    "### 8. File Stats"
   ]
  },
  {
   "cell_type": "code",
   "execution_count": 28,
   "metadata": {},
   "outputs": [],
   "source": [
    "import re\n",
    "\n",
    "def ReadFileAsString(filename) -> str:\n",
    "    file = open(filename, \"r\")\n",
    "    content = file.read()\n",
    "    file.close()\n",
    "    return content\n",
    "\n",
    "def GetStats(inputstr) -> dict:\n",
    "    result = {}\n",
    "   \n",
    "    allwords = list(filter(None, re.split(\"[^\\w+\\d+]+\", inputstr)))\n",
    "    \n",
    "    for curr_word in allwords:\n",
    "        if curr_word.lower() in result:\n",
    "            result[curr_word.lower()] += 1\n",
    "        else:\n",
    "            result[curr_word.lower()] = 1\n",
    "            \n",
    "    return dict(sorted(result.items(), key=lambda x:x[1], reverse=True))\n",
    "\n",
    "def PrintFileStats(filename):\n",
    "    wstats = GetStats(ReadFileAsString(filename))\n",
    "    print(\"Top 3\")\n",
    "    print(list(wstats.items())[:3])\n",
    "    print(\"All Stats\")\n",
    "    print(wstats)\n",
    "    "
   ]
  },
  {
   "cell_type": "code",
   "execution_count": 29,
   "metadata": {},
   "outputs": [
    {
     "name": "stdout",
     "output_type": "stream",
     "text": [
      "Top 3\n",
      "[('the', 14), ('software', 9), ('or', 9)]\n",
      "All Stats\n",
      "{'the': 14, 'software': 9, 'or': 9, 'of': 8, 'to': 8, 'in': 6, 'and': 5, 'is': 4, 'copyright': 3, 'any': 3, 'without': 3, 'permission': 2, 'a': 2, 'copy': 2, 'this': 2, 'including': 2, 'use': 2, 'copies': 2, 'notice': 2, 'shall': 2, 'be': 2, 'for': 2, 'other': 2, 'mit': 1, 'license': 1, 'c': 1, '2021': 1, 'kalpesh': 1, 'chavan': 1, 'hereby': 1, 'granted': 1, 'free': 1, 'charge': 1, 'person': 1, 'obtaining': 1, 'associated': 1, 'documentation': 1, 'files': 1, 'deal': 1, 'restriction': 1, 'limitation': 1, 'rights': 1, 'modify': 1, 'merge': 1, 'publish': 1, 'distribute': 1, 'sublicense': 1, 'sell': 1, 'permit': 1, 'persons': 1, 'whom': 1, 'furnished': 1, 'do': 1, 'so': 1, 'subject': 1, 'following': 1, 'conditions': 1, 'above': 1, 'included': 1, 'all': 1, 'substantial': 1, 'portions': 1, 'provided': 1, 'as': 1, 'warranty': 1, 'kind': 1, 'express': 1, 'implied': 1, 'but': 1, 'not': 1, 'limited': 1, 'warranties': 1, 'merchantability': 1, 'fitness': 1, 'particular': 1, 'purpose': 1, 'noninfringement': 1, 'no': 1, 'event': 1, 'authors': 1, 'holders': 1, 'liable': 1, 'claim': 1, 'damages': 1, 'liability': 1, 'whether': 1, 'an': 1, 'action': 1, 'contract': 1, 'tort': 1, 'otherwise': 1, 'arising': 1, 'from': 1, 'out': 1, 'connection': 1, 'with': 1, 'dealings': 1}\n"
     ]
    }
   ],
   "source": [
    "PrintFileStats(\"..\\..\\LICENSE\")"
   ]
  },
  {
   "cell_type": "code",
   "execution_count": null,
   "metadata": {},
   "outputs": [],
   "source": []
  }
 ],
 "metadata": {
  "kernelspec": {
   "display_name": "Python 3",
   "language": "python",
   "name": "python3"
  },
  "language_info": {
   "codemirror_mode": {
    "name": "ipython",
    "version": 3
   },
   "file_extension": ".py",
   "mimetype": "text/x-python",
   "name": "python",
   "nbconvert_exporter": "python",
   "pygments_lexer": "ipython3",
   "version": "3.6.5"
  }
 },
 "nbformat": 4,
 "nbformat_minor": 2
}
